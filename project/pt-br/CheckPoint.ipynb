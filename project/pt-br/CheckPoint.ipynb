{
 "cells": [
  {
   "attachments": {},
   "cell_type": "markdown",
   "metadata": {},
   "source": [
    "## Checkpoint 2 \n",
    "\n",
    "Utilize o código abaixo para gerar dados de duas classes.\n",
    "\n",
    "Implemente uma rede neural que seja capaz de classificar, corretamente, os dados, utilizando como parâmetro seu proprio RM (identificador de aluno).\n",
    "\n",
    "Exemplo:\n",
    "\n",
    " - RM = abcde\n",
    " - nData = 100 * (a+b+c+d+e)\n",
    " - nVertices = 1 * maximo(a,b,c,d,e)\n",
    "\n"
   ]
  },
  {
   "cell_type": "code",
   "execution_count": 1,
   "metadata": {},
   "outputs": [],
   "source": [
    "### Execute essa celula, mas não altere essa função\n",
    "\n",
    "import numpy as np\n",
    "import matplotlib.pyplot as plt\n",
    "\n",
    "def generate_data(nData, nVertices):\n",
    "    c = np.random.uniform()*2*np.pi\n",
    "    c1 = np.zeros((nData,2))\n",
    "    c2 = np.zeros((nData,2))\n",
    "    for ii in range(nData):\n",
    "      th = np.random.uniform()*2*np.pi;\n",
    "      r  = 0.5*np.random.uniform()+1.25+0.2*np.cos(nVertices*(th+c));\n",
    "      c1[ii,:]=r*np.array([np.cos(th), np.sin(th)]);\n",
    "\n",
    "      th = np.random.uniform()*3*np.pi;\n",
    "      r  = np.random.uniform()+0.3*np.cos(nVertices*(th+c));\n",
    "      c2[ii,:]=r*np.array([np.cos(th), np.sin(th)]);\n",
    "    return c1, c2"
   ]
  },
  {
   "cell_type": "code",
   "execution_count": 2,
   "metadata": {},
   "outputs": [
    {
     "data": {
      "image/png": "[encoded data removed]",
      "text/plain": [
       "<Figure size 432x288 with 1 Axes>"
      ]
     },
     "metadata": {
      "needs_background": "light"
     },
     "output_type": "display_data"
    }
   ],
   "source": [
    "## Coloque seu RM aqui\n",
    "\n",
    "RM = [9,3,4,8,0]\n",
    "\n",
    "nData = 100 * (sum(RM))\n",
    "nVertices = 1 * max(RM)\n",
    "\n",
    "#Gerando os dados\n",
    "\n",
    "c1, c2 = generate_data(nData,nVertices)\n",
    "\n",
    "#Plot dos dados\n",
    "\n",
    "plt.scatter(c1[:,0],c1[:,1])\n",
    "plt.scatter(c2[:,0],c2[:,1])\n",
    "\n",
    "plt.show()"
   ]
  },
  {
   "attachments": {},
   "cell_type": "markdown",
   "metadata": {},
   "source": [
    "Comente sobre a decisão de cada parâmetro utilizado:\n",
    "\n",
    "Serão avaliados:\n",
    "\n",
    "    - Estrutura do código;\n",
    "    - Testes realizados;\n",
    "    - Número de neurônios;\n",
    "    - Número de camadas em cada neurônio;\n",
    "    - Algorítmo de adaptação;\n",
    "    - Parâmetros do algoritmo de adaptação;\n",
    "    - Funções de ativação."
   ]
  },
  {
   "attachments": {},
   "cell_type": "markdown",
   "metadata": {},
   "source": [
    "### Pré-processamento"
   ]
  },
  {
   "cell_type": "code",
   "execution_count": 3,
   "metadata": {},
   "outputs": [],
   "source": [
    "# Imports\n",
    "\n",
    "import pandas as pd\n",
    "import tensorflow as tf\n",
    "\n",
    "from tensorflow import keras\n",
    "from keras import layers\n",
    "from keras.models import Sequential\n",
    "from keras.layers import Dense, Dropout, BatchNormalization\n",
    "from keras.utils.np_utils import to_categorical\n",
    "\n",
    "from sklearn.model_selection import train_test_split\n",
    "from sklearn.metrics import accuracy_score, f1_score, precision_score, recall_score\n",
    "\n",
    "import warnings\n",
    "warnings.filterwarnings('ignore')"
   ]
  },
  {
   "attachments": {},
   "cell_type": "markdown",
   "metadata": {},
   "source": [
    "#### Separação"
   ]
  },
  {
   "cell_type": "code",
   "execution_count": 4,
   "metadata": {},
   "outputs": [],
   "source": [
    "# Preparando os dados X e Y\n",
    "\n",
    "x = np.concatenate((c1, c2), axis=0)\n",
    "y = np.concatenate((np.zeros(nData), np.ones(nData)), axis=0)\n",
    "\n",
    "# Separando os dados de treino e teste\n",
    "\n",
    "x_train, x_test, y_train, y_test = train_test_split(x, y, test_size=0.2, random_state=42)"
   ]
  },
  {
   "attachments": {},
   "cell_type": "markdown",
   "metadata": {},
   "source": [
    "### Construção do modelo"
   ]
  },
  {
   "cell_type": "code",
   "execution_count": 16,
   "metadata": {},
   "outputs": [
    {
     "name": "stdout",
     "output_type": "stream",
     "text": [
      "Model: \"sequential_4\"\n",
      "_________________________________________________________________\n",
      " Layer (type)                Output Shape              Param #   \n",
      "=================================================================\n",
      " dense_12 (Dense)            (None, 8)                 24        \n",
      "                                                                 \n",
      " dense_13 (Dense)            (None, 8)                 72        \n",
      "                                                                 \n",
      " dense_14 (Dense)            (None, 1)                 9         \n",
      "                                                                 \n",
      "=================================================================\n",
      "Total params: 105\n",
      "Trainable params: 105\n",
      "Non-trainable params: 0\n",
      "_________________________________________________________________\n"
     ]
    }
   ],
   "source": [
    "# Criação dos neurônios do modelo\n",
    "\n",
    "model = keras.Sequential([\n",
    "\n",
    "    layers.Dense(8, input_shape=(2,)),\n",
    "\n",
    "    layers.Dense(8, activation='relu'),\n",
    "\n",
    "    layers.Dense(1, activation='sigmoid')\n",
    "])\n",
    "\n",
    "# Compilação do modelo\n",
    "\n",
    "model.compile(optimizer='adam',\n",
    "              loss='binary_crossentropy',\n",
    "              metrics=['accuracy'])\n",
    "\n",
    "# Exibindo o resumo do modelo\n",
    "\n",
    "model.summary()"
   ]
  },
  {
   "attachments": {},
   "cell_type": "markdown",
   "metadata": {},
   "source": [
    "### Treino"
   ]
  },
  {
   "cell_type": "code",
   "execution_count": 17,
   "metadata": {},
   "outputs": [
    {
     "name": "stdout",
     "output_type": "stream",
     "text": [
      "Epoch 1/15\n",
      "96/96 [==============================] - 1s 4ms/step - loss: 0.6594 - accuracy: 0.5850 - val_loss: 0.6375 - val_accuracy: 0.7005\n",
      "Epoch 2/15\n",
      "96/96 [==============================] - 0s 2ms/step - loss: 0.6034 - accuracy: 0.7285 - val_loss: 0.5876 - val_accuracy: 0.7891\n",
      "Epoch 3/15\n",
      "96/96 [==============================] - 0s 2ms/step - loss: 0.5558 - accuracy: 0.7936 - val_loss: 0.5319 - val_accuracy: 0.8385\n",
      "Epoch 4/15\n",
      "96/96 [==============================] - 0s 2ms/step - loss: 0.4935 - accuracy: 0.8623 - val_loss: 0.4556 - val_accuracy: 0.8867\n",
      "Epoch 5/15\n",
      "96/96 [==============================] - 0s 2ms/step - loss: 0.4126 - accuracy: 0.9144 - val_loss: 0.3712 - val_accuracy: 0.9193\n",
      "Epoch 6/15\n",
      "96/96 [==============================] - 0s 2ms/step - loss: 0.3313 - accuracy: 0.9329 - val_loss: 0.2979 - val_accuracy: 0.9310\n",
      "Epoch 7/15\n",
      "96/96 [==============================] - 0s 2ms/step - loss: 0.2653 - accuracy: 0.9463 - val_loss: 0.2421 - val_accuracy: 0.9388\n",
      "Epoch 8/15\n",
      "96/96 [==============================] - 0s 2ms/step - loss: 0.2182 - accuracy: 0.9541 - val_loss: 0.2032 - val_accuracy: 0.9518\n",
      "Epoch 9/15\n",
      "96/96 [==============================] - 0s 2ms/step - loss: 0.1852 - accuracy: 0.9596 - val_loss: 0.1773 - val_accuracy: 0.9505\n",
      "Epoch 10/15\n",
      "96/96 [==============================] - 0s 2ms/step - loss: 0.1628 - accuracy: 0.9593 - val_loss: 0.1577 - val_accuracy: 0.9622\n",
      "Epoch 11/15\n",
      "96/96 [==============================] - 0s 2ms/step - loss: 0.1460 - accuracy: 0.9642 - val_loss: 0.1447 - val_accuracy: 0.9674\n",
      "Epoch 12/15\n",
      "96/96 [==============================] - 0s 2ms/step - loss: 0.1338 - accuracy: 0.9665 - val_loss: 0.1337 - val_accuracy: 0.9661\n",
      "Epoch 13/15\n",
      "96/96 [==============================] - 0s 2ms/step - loss: 0.1239 - accuracy: 0.9668 - val_loss: 0.1250 - val_accuracy: 0.9674\n",
      "Epoch 14/15\n",
      "96/96 [==============================] - 0s 2ms/step - loss: 0.1166 - accuracy: 0.9665 - val_loss: 0.1196 - val_accuracy: 0.9688\n",
      "Epoch 15/15\n",
      "96/96 [==============================] - 0s 2ms/step - loss: 0.1105 - accuracy: 0.9688 - val_loss: 0.1135 - val_accuracy: 0.9727\n",
      "120/120 - 0s - loss: 0.1086 - accuracy: 0.9714 - 128ms/epoch - 1ms/step\n",
      "Acurácia Treino: 0.9713541865348816\n",
      "30/30 - 0s - loss: 0.1117 - accuracy: 0.9729 - 190ms/epoch - 6ms/step\n",
      "Acurácia Teste: 0.9729166626930237\n"
     ]
    }
   ],
   "source": [
    "# Treinamento do modelos\n",
    "\n",
    "history = model.fit(x_train, y_train, epochs=15, batch_size=32, validation_split=0.2)\n",
    "\n",
    "# Modelo de treino\n",
    "\n",
    "train_loss, train_acc = model.evaluate(x_train,  y_train, verbose=2)\n",
    "print(f'Acurácia Treino: {train_acc}')\n",
    "\n",
    "# Modelo de teste\n",
    "\n",
    "test_loss, test_acc = model.evaluate(x_test,  y_test, verbose=2)\n",
    "print(f'Acurácia Teste: {test_acc}')\n"
   ]
  },
  {
   "attachments": {},
   "cell_type": "markdown",
   "metadata": {},
   "source": [
    "### Avaliação de Resultados"
   ]
  },
  {
   "cell_type": "code",
   "execution_count": 18,
   "metadata": {},
   "outputs": [
    {
     "data": {
      "image/png": "[encoded data removed]",
      "text/plain": [
       "<Figure size 432x288 with 1 Axes>"
      ]
     },
     "metadata": {
      "needs_background": "light"
     },
     "output_type": "display_data"
    },
    {
     "data": {
      "image/png": "[encoded data removed]",
      "text/plain": [
       "<Figure size 432x288 with 1 Axes>"
      ]
     },
     "metadata": {
      "needs_background": "light"
     },
     "output_type": "display_data"
    }
   ],
   "source": [
    "## Exibindo os gráficos das funções Loss e Accuracy\n",
    "\n",
    "history_df = pd.DataFrame(history.history)\n",
    "\n",
    "history_df[['loss','val_loss']].plot();\n",
    "history_df[['accuracy','val_accuracy']].plot();"
   ]
  },
  {
   "cell_type": "code",
   "execution_count": 19,
   "metadata": {},
   "outputs": [
    {
     "name": "stdout",
     "output_type": "stream",
     "text": [
      "30/30 [==============================] - 0s 1ms/step\n",
      "Acurácia: 0.973\n",
      "Precisão: 0.974\n",
      "Revocação: 0.973\n",
      "F1-Score: 0.973\n"
     ]
    }
   ],
   "source": [
    "y_pred = np.round(model.predict(x_test))\n",
    "y_test = y_test.astype(int)\n",
    "y_pred = y_pred.astype(int)\n",
    "\n",
    "# Calculando os resultados\n",
    "\n",
    "accuracy = accuracy_score(y_test, y_pred)\n",
    "precision = precision_score(y_test, y_pred, average='weighted')\n",
    "recall = recall_score(y_test, y_pred, average='weighted')\n",
    "f1 = f1_score(y_test, y_pred, average='weighted')\n",
    "\n",
    "\n",
    "# Exibindo os resultados\n",
    "\n",
    "print(f\"Acurácia: {accuracy:.3f}\")\n",
    "print(f\"Precisão: {precision:.3f}\")\n",
    "print(f\"Revocação: {recall:.3f}\")\n",
    "print(f\"F1-Score: {f1:.3f}\")"
   ]
  },
  {
   "attachments": {},
   "cell_type": "markdown",
   "metadata": {},
   "source": [
    "### Resultados Finais"
   ]
  },
  {
   "attachments": {},
   "cell_type": "markdown",
   "metadata": {},
   "source": [
    "- Funções de Ativação: 'relu' e 'sigmoid'\n",
    "- Otimizador: 'adam'\n",
    "- Métricas de perda: 'binary_crossentropy'\n",
    "- Métricas de precisão: ['accuracy']\n",
    "\n",
    "- Total de Camadas: 3\n",
    "- Total de Parâmetros: 105\n",
    "- Acurácia: 0.973"
   ]
  },
  {
   "attachments": {},
   "cell_type": "markdown",
   "metadata": {},
   "source": [
    "### Considerações"
   ]
  },
  {
   "attachments": {},
   "cell_type": "markdown",
   "metadata": {},
   "source": [
    "Pontos observados durante o projeto:\n",
    "\n",
    "    - Não houveram mudanças significativas na precisão do modelo ao utilizar mais de 3 camadas de neurônios;\n",
    "\n",
    "    - Foi definido o uso de camadas com densidade (8, 8 e 1) pois valores inferiores a este diminuiam drasticamente a precisão do modelo e valores superiores não geravam melhorias significativas;\n",
    "\n",
    "    - O uso de Dropout e BatchNormalization acabavam por diminuir a precisão do modelo, logo, seu uso foi descartado;\n",
    "    \n",
    "    - Não houveram mudanças significativas na precisão do modelo ao treinar mais de 15 épocas."
   ]
  }
 ],
 "metadata": {
  "kernelspec": {
   "display_name": "Python 3.9.12 ('base')",
   "language": "python",
   "name": "python3"
  },
  "language_info": {
   "codemirror_mode": {
    "name": "ipython",
    "version": 3
   },
   "file_extension": ".py",
   "mimetype": "text/x-python",
   "name": "python",
   "nbconvert_exporter": "python",
   "pygments_lexer": "ipython3",
   "version": "3.9.12"
  },
  "vscode": {
   "interpreter": {
    "hash": "ad2bdc8ecc057115af97d19610ffacc2b4e99fae6737bb82f5d7fb13d2f2c186"
   }
  }
 },
 "nbformat": 4,
 "nbformat_minor": 2
}
