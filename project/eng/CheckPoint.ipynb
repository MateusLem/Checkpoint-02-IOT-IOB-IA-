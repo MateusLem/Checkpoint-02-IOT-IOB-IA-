{
 "cells": [
  {
   "attachments": {},
   "cell_type": "markdown",
   "metadata": {},
   "source": [
    "## Checkpoint 2 \n",
    "\n",
    "Use the code below to generate the data for two classes.\n",
    "\n",
    "Implement a neural network that is capable of correctly classifying the data, using its own RM (student identifier) ​​as a parameter.\n",
    "\n",
    "Exemple:\n",
    "\n",
    "- RM = abcde\n",
    "- nData = 100 * (a+b+c+d+e)\n",
    "- nVertices = 1 * maximum(a,b,c,d,e)"
   ]
  },
  {
   "cell_type": "code",
   "execution_count": 41,
   "metadata": {},
   "outputs": [],
   "source": [
    "# Run this cell, but don't change this function\n",
    "\n",
    "import numpy as np\n",
    "import matplotlib.pyplot as plt\n",
    "\n",
    "def generate_data(nData, nVertices):\n",
    "    c = np.random.uniform()*2*np.pi\n",
    "    c1 = np.zeros((nData,2))\n",
    "    c2 = np.zeros((nData,2))\n",
    "    for ii in range(nData):\n",
    "      th = np.random.uniform()*2*np.pi;\n",
    "      r  = 0.5*np.random.uniform()+1.25+0.2*np.cos(nVertices*(th+c));\n",
    "      c1[ii,:]=r*np.array([np.cos(th), np.sin(th)]);\n",
    "\n",
    "      th = np.random.uniform()*3*np.pi;\n",
    "      r  = np.random.uniform()+0.3*np.cos(nVertices*(th+c));\n",
    "      c2[ii,:]=r*np.array([np.cos(th), np.sin(th)]);\n",
    "    return c1, c2"
   ]
  },
  {
   "cell_type": "code",
   "execution_count": 42,
   "metadata": {},
   "outputs": [
    {
     "data": {
      "image/png": "[encoded data removed]",
      "text/plain": [
       "<Figure size 432x288 with 1 Axes>"
      ]
     },
     "metadata": {
      "needs_background": "light"
     },
     "output_type": "display_data"
    }
   ],
   "source": [
    "# Put your RM here\n",
    "\n",
    "RM = [9,3,4,8,0]\n",
    "\n",
    "nData = 100 * (sum(RM))\n",
    "nVertices = 1 * max(RM)\n",
    "\n",
    "# Generating the data\n",
    "\n",
    "c1, c2 = generate_data(nData,nVertices)\n",
    "\n",
    "# Plotting the data\n",
    "\n",
    "plt.scatter(c1[:,0],c1[:,1])\n",
    "plt.scatter(c2[:,0],c2[:,1])\n",
    "\n",
    "plt.show()"
   ]
  },
  {
   "attachments": {},
   "cell_type": "markdown",
   "metadata": {},
   "source": [
    "Comment on the decision of each parameter used:\n",
    "\n",
    "Will be evaluated:\n",
    "\n",
    "    - Code structure;\n",
    "    - Tests;\n",
    "    - Number of neurons;\n",
    "    - Number of layers in each neuron;\n",
    "    - Adaptation algorithm;\n",
    "    - Adaptation algorithm parameters;\n",
    "    - Activation functions."
   ]
  },
  {
   "attachments": {},
   "cell_type": "markdown",
   "metadata": {},
   "source": [
    "### Preprocessing"
   ]
  },
  {
   "cell_type": "code",
   "execution_count": 43,
   "metadata": {},
   "outputs": [],
   "source": [
    "# Imports\n",
    "\n",
    "import pandas as pd\n",
    "import tensorflow as tf\n",
    "\n",
    "from tensorflow import keras\n",
    "from keras import layers\n",
    "from keras.models import Sequential\n",
    "from keras.layers import Dense, Dropout, BatchNormalization\n",
    "from keras.utils.np_utils import to_categorical\n",
    "\n",
    "from sklearn.model_selection import train_test_split\n",
    "from sklearn.metrics import accuracy_score, f1_score, precision_score, recall_score\n",
    "\n",
    "import warnings\n",
    "warnings.filterwarnings('ignore')"
   ]
  },
  {
   "attachments": {},
   "cell_type": "markdown",
   "metadata": {},
   "source": [
    "#### Splitting"
   ]
  },
  {
   "cell_type": "code",
   "execution_count": 44,
   "metadata": {},
   "outputs": [],
   "source": [
    "# Preparing the X and Y data\n",
    "\n",
    "x = np.concatenate((c1, c2), axis=0)\n",
    "y = np.concatenate((np.zeros(nData), np.ones(nData)), axis=0)\n",
    "\n",
    "# Splitting training and testing data\n",
    "\n",
    "x_train, x_test, y_train, y_test = train_test_split(x, y, test_size=0.2, random_state=42)"
   ]
  },
  {
   "attachments": {},
   "cell_type": "markdown",
   "metadata": {},
   "source": [
    "### Model construction"
   ]
  },
  {
   "cell_type": "code",
   "execution_count": 53,
   "metadata": {},
   "outputs": [
    {
     "name": "stdout",
     "output_type": "stream",
     "text": [
      "Model: \"sequential_8\"\n",
      "_________________________________________________________________\n",
      " Layer (type)                Output Shape              Param #   \n",
      "=================================================================\n",
      " dense_24 (Dense)            (None, 8)                 24        \n",
      "                                                                 \n",
      " dense_25 (Dense)            (None, 8)                 72        \n",
      "                                                                 \n",
      " dense_26 (Dense)            (None, 1)                 9         \n",
      "                                                                 \n",
      "=================================================================\n",
      "Total params: 105\n",
      "Trainable params: 105\n",
      "Non-trainable params: 0\n",
      "_________________________________________________________________\n"
     ]
    }
   ],
   "source": [
    "# Creation of model neurons\n",
    "\n",
    "model = keras.Sequential([\n",
    "\n",
    "    layers.Dense(8, input_shape=(2,)),\n",
    "\n",
    "    layers.Dense(8, activation='relu'),\n",
    "\n",
    "    layers.Dense(1, activation='sigmoid')\n",
    "])\n",
    "\n",
    "# Model compilation\n",
    "\n",
    "model.compile(optimizer='adam',\n",
    "              loss='binary_crossentropy',\n",
    "              metrics=['accuracy'])\n",
    "\n",
    "# Displaying the model summary\n",
    "\n",
    "model.summary()"
   ]
  },
  {
   "attachments": {},
   "cell_type": "markdown",
   "metadata": {},
   "source": [
    "### Training"
   ]
  },
  {
   "cell_type": "code",
   "execution_count": 54,
   "metadata": {},
   "outputs": [
    {
     "name": "stdout",
     "output_type": "stream",
     "text": [
      "Epoch 1/15\n",
      "96/96 [==============================] - 1s 4ms/step - loss: 0.7060 - accuracy: 0.4932 - val_loss: 0.6641 - val_accuracy: 0.5221\n",
      "Epoch 2/15\n",
      "96/96 [==============================] - 0s 2ms/step - loss: 0.6291 - accuracy: 0.6279 - val_loss: 0.6017 - val_accuracy: 0.6758\n",
      "Epoch 3/15\n",
      "96/96 [==============================] - 0s 2ms/step - loss: 0.5651 - accuracy: 0.7858 - val_loss: 0.5408 - val_accuracy: 0.8555\n",
      "Epoch 4/15\n",
      "96/96 [==============================] - 0s 2ms/step - loss: 0.5050 - accuracy: 0.8724 - val_loss: 0.4774 - val_accuracy: 0.8789\n",
      "Epoch 5/15\n",
      "96/96 [==============================] - 0s 2ms/step - loss: 0.4383 - accuracy: 0.8975 - val_loss: 0.4079 - val_accuracy: 0.9232\n",
      "Epoch 6/15\n",
      "96/96 [==============================] - 0s 2ms/step - loss: 0.3702 - accuracy: 0.9251 - val_loss: 0.3407 - val_accuracy: 0.9336\n",
      "Epoch 7/15\n",
      "96/96 [==============================] - 0s 2ms/step - loss: 0.3082 - accuracy: 0.9395 - val_loss: 0.2819 - val_accuracy: 0.9453\n",
      "Epoch 8/15\n",
      "96/96 [==============================] - 0s 2ms/step - loss: 0.2577 - accuracy: 0.9515 - val_loss: 0.2366 - val_accuracy: 0.9531\n",
      "Epoch 9/15\n",
      "96/96 [==============================] - 0s 2ms/step - loss: 0.2197 - accuracy: 0.9531 - val_loss: 0.2021 - val_accuracy: 0.9596\n",
      "Epoch 10/15\n",
      "96/96 [==============================] - 0s 2ms/step - loss: 0.1914 - accuracy: 0.9596 - val_loss: 0.1772 - val_accuracy: 0.9648\n",
      "Epoch 11/15\n",
      "96/96 [==============================] - 0s 2ms/step - loss: 0.1704 - accuracy: 0.9619 - val_loss: 0.1581 - val_accuracy: 0.9701\n",
      "Epoch 12/15\n",
      "96/96 [==============================] - 0s 2ms/step - loss: 0.1548 - accuracy: 0.9648 - val_loss: 0.1434 - val_accuracy: 0.9740\n",
      "Epoch 13/15\n",
      "96/96 [==============================] - 0s 2ms/step - loss: 0.1431 - accuracy: 0.9652 - val_loss: 0.1326 - val_accuracy: 0.9714\n",
      "Epoch 14/15\n",
      "96/96 [==============================] - 0s 3ms/step - loss: 0.1338 - accuracy: 0.9661 - val_loss: 0.1239 - val_accuracy: 0.9688\n",
      "Epoch 15/15\n",
      "96/96 [==============================] - 0s 2ms/step - loss: 0.1268 - accuracy: 0.9671 - val_loss: 0.1178 - val_accuracy: 0.9779\n",
      "120/120 - 0s - loss: 0.1215 - accuracy: 0.9701 - 159ms/epoch - 1ms/step\n",
      "Acurácia Treino: 0.9700520634651184\n",
      "30/30 - 0s - loss: 0.1198 - accuracy: 0.9708 - 204ms/epoch - 7ms/step\n",
      "Acurácia Teste: 0.9708333611488342\n"
     ]
    }
   ],
   "source": [
    "# Training the models\n",
    "\n",
    "history = model.fit(x_train, y_train, epochs=15, batch_size=32, validation_split=0.2)\n",
    "\n",
    "# Training model\n",
    "\n",
    "train_loss, train_acc = model.evaluate(x_train,  y_train, verbose=2)\n",
    "print(f'Acurácia Treino: {train_acc}')\n",
    "\n",
    "# Test model\n",
    "\n",
    "test_loss, test_acc = model.evaluate(x_test,  y_test, verbose=2)\n",
    "print(f'Acurácia Teste: {test_acc}')\n"
   ]
  },
  {
   "attachments": {},
   "cell_type": "markdown",
   "metadata": {},
   "source": [
    "### Result evaluation"
   ]
  },
  {
   "cell_type": "code",
   "execution_count": 55,
   "metadata": {},
   "outputs": [
    {
     "data": {
      "image/png": "[encoded data removed]",
      "text/plain": [
       "<Figure size 432x288 with 1 Axes>"
      ]
     },
     "metadata": {
      "needs_background": "light"
     },
     "output_type": "display_data"
    },
    {
     "data": {
      "image/png": "[encoded data removed]",
      "text/plain": [
       "<Figure size 432x288 with 1 Axes>"
      ]
     },
     "metadata": {
      "needs_background": "light"
     },
     "output_type": "display_data"
    }
   ],
   "source": [
    "# Displaying the graphs of the Loss and Accuracy functions\n",
    "\n",
    "history_df = pd.DataFrame(history.history)\n",
    "\n",
    "history_df[['loss','val_loss']].plot();\n",
    "history_df[['accuracy','val_accuracy']].plot();"
   ]
  },
  {
   "cell_type": "code",
   "execution_count": 56,
   "metadata": {},
   "outputs": [
    {
     "name": "stdout",
     "output_type": "stream",
     "text": [
      "30/30 [==============================] - 0s 966us/step\n",
      "Accuracy: 0.971\n",
      "Precision: 0.972\n",
      "Recall: 0.971\n",
      "F1-Score: 0.971\n"
     ]
    }
   ],
   "source": [
    "y_pred = np.round(model.predict(x_test))\n",
    "y_test = y_test.astype(int)\n",
    "y_pred = y_pred.astype(int)\n",
    "\n",
    "# Calculating the results\n",
    "\n",
    "accuracy = accuracy_score(y_test, y_pred)\n",
    "precision = precision_score(y_test, y_pred, average='weighted')\n",
    "recall = recall_score(y_test, y_pred, average='weighted')\n",
    "f1 = f1_score(y_test, y_pred, average='weighted')\n",
    "\n",
    "\n",
    "# Displaying the results\n",
    "\n",
    "print(f\"Accuracy: {accuracy:.3f}\")\n",
    "print(f\"Precision: {precision:.3f}\")\n",
    "print(f\"Recall: {recall:.3f}\")\n",
    "print(f\"F1-Score: {f1:.3f}\")"
   ]
  },
  {
   "attachments": {},
   "cell_type": "markdown",
   "metadata": {},
   "source": [
    "### Final results"
   ]
  },
  {
   "attachments": {},
   "cell_type": "markdown",
   "metadata": {},
   "source": [
    "- Activaion functions: 'relu' e 'sigmoid'\n",
    "- Optimizer: 'adam'\n",
    "- Loss metrics: 'binary_crossentropy'\n",
    "- Accuracy metrics: ['accuracy']\n",
    "\n",
    "- Total layers: 3\n",
    "- Total parameters: 105\n",
    "- Accuracy: 0.971"
   ]
  },
  {
   "attachments": {},
   "cell_type": "markdown",
   "metadata": {},
   "source": [
    "### Considerations"
   ]
  },
  {
   "attachments": {},
   "cell_type": "markdown",
   "metadata": {},
   "source": [
    "Points observed during the project:\n",
    "\n",
    "    - There were no significant changes in model accuracy when using more than 3 layers of neurons;\n",
    "\n",
    "    - The use of layers with density (8, 8 and 1) was defined because values ​​lower than this drastically reduced the accuracy of the model and higher values ​​did not generate significant improvements;\n",
    "\n",
    "    - The use of Dropout and BatchNormalization ended up reducing the accuracy of the model, so its use was discarded;\n",
    "\n",
    "    - ther were no signifficant changes in model accuracy when training more than 15 ephochs."
   ]
  }
 ],
 "metadata": {
  "kernelspec": {
   "display_name": "Python 3.9.12 ('base')",
   "language": "python",
   "name": "python3"
  },
  "language_info": {
   "codemirror_mode": {
    "name": "ipython",
    "version": 3
   },
   "file_extension": ".py",
   "mimetype": "text/x-python",
   "name": "python",
   "nbconvert_exporter": "python",
   "pygments_lexer": "ipython3",
   "version": "3.9.12"
  },
  "vscode": {
   "interpreter": {
    "hash": "ad2bdc8ecc057115af97d19610ffacc2b4e99fae6737bb82f5d7fb13d2f2c186"
   }
  }
 },
 "nbformat": 4,
 "nbformat_minor": 2
}
